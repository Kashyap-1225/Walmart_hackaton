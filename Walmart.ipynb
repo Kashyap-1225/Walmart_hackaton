{
 "cells": [
  {
   "cell_type": "markdown",
   "id": "f54efa68",
   "metadata": {},
   "source": [
    "# **Importing Required Libraries**"
   ]
  },
  {
   "cell_type": "code",
   "execution_count": 1,
   "id": "f27dfb1b",
   "metadata": {
    "execution": {
     "iopub.execute_input": "2023-08-16T13:05:11.168944Z",
     "iopub.status.busy": "2023-08-16T13:05:11.168540Z",
     "iopub.status.idle": "2023-08-16T13:05:11.893778Z",
     "shell.execute_reply": "2023-08-16T13:05:11.892572Z",
     "shell.execute_reply.started": "2023-08-16T13:05:11.168913Z"
    }
   },
   "outputs": [],
   "source": [
    "import numpy as np\n",
    "import pandas as pd\n",
    "from sklearn.model_selection import train_test_split\n",
    "import xgboost as xgb\n",
    "from sklearn.metrics import mean_absolute_error\n",
    "from sklearn.preprocessing import LabelEncoder\n",
    "import math"
   ]
  },
  {
   "cell_type": "markdown",
   "id": "df5349cd",
   "metadata": {},
   "source": [
    "# **Defining the XGBoost Parameters**"
   ]
  },
  {
   "cell_type": "code",
   "execution_count": 2,
   "id": "3cd59e47",
   "metadata": {
    "execution": {
     "iopub.execute_input": "2023-08-16T13:05:11.896328Z",
     "iopub.status.busy": "2023-08-16T13:05:11.895957Z",
     "iopub.status.idle": "2023-08-16T13:05:11.902813Z",
     "shell.execute_reply": "2023-08-16T13:05:11.901557Z",
     "shell.execute_reply.started": "2023-08-16T13:05:11.896298Z"
    }
   },
   "outputs": [],
   "source": [
    "# Train individual models using XGBoost\n",
    "xgb_params = {\n",
    "    'objective': 'reg:squarederror',\n",
    "    'n_estimators': 100,\n",
    "    'learning_rate': 0.1,\n",
    "    'max_depth': 3,\n",
    "    'subsample': 0.8,\n",
    "    'colsample_bytree': 0.8,\n",
    "    'random_state': 42\n",
    "}\n",
    "\n",
    "# Train models for each component\n",
    "model = xgb.XGBRegressor(**xgb_params)"
   ]
  },
  {
   "cell_type": "markdown",
   "id": "de134490",
   "metadata": {},
   "source": [
    "**Defining the Global Variables**"
   ]
  },
  {
   "cell_type": "code",
   "execution_count": 3,
   "id": "0815fb9c",
   "metadata": {
    "execution": {
     "iopub.execute_input": "2023-08-16T13:05:11.904867Z",
     "iopub.status.busy": "2023-08-16T13:05:11.904383Z",
     "iopub.status.idle": "2023-08-16T13:05:11.918738Z",
     "shell.execute_reply": "2023-08-16T13:05:11.917222Z",
     "shell.execute_reply.started": "2023-08-16T13:05:11.904822Z"
    }
   },
   "outputs": [],
   "source": [
    "dates = pd.date_range(start='2022-01-01', end='2023-12-31', freq='D')\n",
    "num_regions = 730\n",
    "target = 'units_sold'"
   ]
  },
  {
   "cell_type": "markdown",
   "id": "c3fd3bf1",
   "metadata": {},
   "source": [
    "# **Generating Data and Training Individual Models**"
   ]
  },
  {
   "cell_type": "markdown",
   "id": "2026ff11",
   "metadata": {},
   "source": [
    "> **Historical Sales Data Generation**"
   ]
  },
  {
   "cell_type": "code",
   "execution_count": 4,
   "id": "fb79aa17",
   "metadata": {
    "execution": {
     "iopub.execute_input": "2023-08-16T13:05:11.921739Z",
     "iopub.status.busy": "2023-08-16T13:05:11.921279Z",
     "iopub.status.idle": "2023-08-16T13:05:11.947334Z",
     "shell.execute_reply": "2023-08-16T13:05:11.945639Z",
     "shell.execute_reply.started": "2023-08-16T13:05:11.921707Z"
    }
   },
   "outputs": [],
   "source": [
    "# Generate random historical sales data\n",
    "historical_sales_data = pd.DataFrame({\n",
    "    'date': dates,\n",
    "    'units_sold': np.random.randint(100, 1000, len(dates))\n",
    "})\n",
    "\n",
    "# Split data into training and validation sets\n",
    "train_data_h, val_data_h = train_test_split(historical_sales_data, test_size=0.2, random_state=42)"
   ]
  },
  {
   "cell_type": "code",
   "execution_count": 5,
   "id": "f5b97ea4",
   "metadata": {
    "execution": {
     "iopub.execute_input": "2023-08-16T13:05:11.949769Z",
     "iopub.status.busy": "2023-08-16T13:05:11.949007Z",
     "iopub.status.idle": "2023-08-16T13:05:11.963267Z",
     "shell.execute_reply": "2023-08-16T13:05:11.961930Z",
     "shell.execute_reply.started": "2023-08-16T13:05:11.949731Z"
    }
   },
   "outputs": [
    {
     "name": "stdout",
     "output_type": "stream",
     "text": [
      "          date  units_sold\n",
      "0   2022-01-01         532\n",
      "1   2022-01-02         248\n",
      "2   2022-01-03         178\n",
      "3   2022-01-04         643\n",
      "4   2022-01-05         457\n",
      "..         ...         ...\n",
      "725 2023-12-27         186\n",
      "726 2023-12-28         227\n",
      "727 2023-12-29         457\n",
      "728 2023-12-30         275\n",
      "729 2023-12-31         302\n",
      "\n",
      "[730 rows x 2 columns]\n"
     ]
    }
   ],
   "source": [
    "print(historical_sales_data)"
   ]
  },
  {
   "cell_type": "markdown",
   "id": "08bed73d",
   "metadata": {},
   "source": [
    "> **Generating Sentiment Score Data for News: NLP**"
   ]
  },
  {
   "cell_type": "code",
   "execution_count": 6,
   "id": "13941eec",
   "metadata": {
    "execution": {
     "iopub.execute_input": "2023-08-16T13:05:11.967940Z",
     "iopub.status.busy": "2023-08-16T13:05:11.967232Z",
     "iopub.status.idle": "2023-08-16T13:05:11.977598Z",
     "shell.execute_reply": "2023-08-16T13:05:11.976456Z",
     "shell.execute_reply.started": "2023-08-16T13:05:11.967903Z"
    }
   },
   "outputs": [],
   "source": [
    "# Generate random data for news sentiment\n",
    "news_sentiment_data = pd.DataFrame({\n",
    "    'date': dates,\n",
    "    'sentiment_score': np.random.uniform(0, 1, len(dates))\n",
    "})\n",
    "train_data_nlp, val_data_nlp = train_test_split(news_sentiment_data, test_size=0.2, random_state=42)"
   ]
  },
  {
   "cell_type": "code",
   "execution_count": 7,
   "id": "1a2643ab",
   "metadata": {
    "execution": {
     "iopub.execute_input": "2023-08-16T13:05:11.979988Z",
     "iopub.status.busy": "2023-08-16T13:05:11.979548Z",
     "iopub.status.idle": "2023-08-16T13:05:11.995304Z",
     "shell.execute_reply": "2023-08-16T13:05:11.993384Z",
     "shell.execute_reply.started": "2023-08-16T13:05:11.979956Z"
    }
   },
   "outputs": [
    {
     "name": "stdout",
     "output_type": "stream",
     "text": [
      "          date  sentiment_score\n",
      "0   2022-01-01         0.368227\n",
      "1   2022-01-02         0.243123\n",
      "2   2022-01-03         0.040596\n",
      "3   2022-01-04         0.846876\n",
      "4   2022-01-05         0.570901\n",
      "..         ...              ...\n",
      "725 2023-12-27         0.550972\n",
      "726 2023-12-28         0.114587\n",
      "727 2023-12-29         0.109807\n",
      "728 2023-12-30         0.517364\n",
      "729 2023-12-31         0.207808\n",
      "\n",
      "[730 rows x 2 columns]\n"
     ]
    }
   ],
   "source": [
    "print(news_sentiment_data)"
   ]
  },
  {
   "cell_type": "markdown",
   "id": "8ba9a1df",
   "metadata": {},
   "source": [
    ">**Training the Model**"
   ]
  },
  {
   "cell_type": "code",
   "execution_count": 8,
   "id": "e02b0e70",
   "metadata": {
    "execution": {
     "iopub.execute_input": "2023-08-16T13:05:11.997392Z",
     "iopub.status.busy": "2023-08-16T13:05:11.996970Z",
     "iopub.status.idle": "2023-08-16T13:05:12.082591Z",
     "shell.execute_reply": "2023-08-16T13:05:12.081604Z",
     "shell.execute_reply.started": "2023-08-16T13:05:11.997356Z"
    }
   },
   "outputs": [
    {
     "name": "stdout",
     "output_type": "stream",
     "text": [
      "MAE for NLP model: 230.09320089261826\n"
     ]
    }
   ],
   "source": [
    "nlp_model =  model.fit(train_data_nlp['sentiment_score'], train_data_h['units_sold'])\n",
    "nlp_predictions = nlp_model.predict(val_data_nlp[['sentiment_score']])\n",
    "\n",
    "mae_nlp = mean_absolute_error(val_data_h['units_sold'], nlp_predictions)\n",
    "\n",
    "print(f\"MAE for NLP model: {mae_nlp}\")"
   ]
  },
  {
   "cell_type": "markdown",
   "id": "118dc477",
   "metadata": {},
   "source": [
    "> **Generating Weather Data**"
   ]
  },
  {
   "cell_type": "code",
   "execution_count": 9,
   "id": "55da4aed",
   "metadata": {
    "execution": {
     "iopub.execute_input": "2023-08-16T13:05:12.084676Z",
     "iopub.status.busy": "2023-08-16T13:05:12.083881Z",
     "iopub.status.idle": "2023-08-16T13:05:12.093324Z",
     "shell.execute_reply": "2023-08-16T13:05:12.092252Z",
     "shell.execute_reply.started": "2023-08-16T13:05:12.084639Z"
    }
   },
   "outputs": [],
   "source": [
    "# Generate random weather data\n",
    "weather_data = pd.DataFrame({\n",
    "    'date': dates,\n",
    "    'temperature': np.random.uniform(10, 35, len(dates)),\n",
    "    'humidity': np.random.uniform(30, 80, len(dates)),\n",
    "    'rainfall': np.random.uniform(0, 10, len(dates))\n",
    "    })\n",
    "train_data_wd, val_data_wd = train_test_split(weather_data, test_size=0.2, random_state=42)"
   ]
  },
  {
   "cell_type": "code",
   "execution_count": 10,
   "id": "4247793c",
   "metadata": {
    "execution": {
     "iopub.execute_input": "2023-08-16T13:05:12.097667Z",
     "iopub.status.busy": "2023-08-16T13:05:12.097194Z",
     "iopub.status.idle": "2023-08-16T13:05:12.113113Z",
     "shell.execute_reply": "2023-08-16T13:05:12.111859Z",
     "shell.execute_reply.started": "2023-08-16T13:05:12.097621Z"
    }
   },
   "outputs": [
    {
     "name": "stdout",
     "output_type": "stream",
     "text": [
      "          date  temperature   humidity  rainfall\n",
      "0   2022-01-01    15.206087  47.608276  9.822919\n",
      "1   2022-01-02    32.329441  51.717235  8.614019\n",
      "2   2022-01-03    31.857903  60.254725  2.177196\n",
      "3   2022-01-04    25.643145  30.201931  4.851575\n",
      "4   2022-01-05    18.884396  56.291954  2.679619\n",
      "..         ...          ...        ...       ...\n",
      "725 2023-12-27    11.819638  48.909548  9.257881\n",
      "726 2023-12-28    18.423578  53.541804  4.153854\n",
      "727 2023-12-29    23.731321  40.631877  1.078325\n",
      "728 2023-12-30    28.268304  45.960687  2.807507\n",
      "729 2023-12-31    26.236822  33.625006  5.628215\n",
      "\n",
      "[730 rows x 4 columns]\n"
     ]
    }
   ],
   "source": [
    "print(weather_data)"
   ]
  },
  {
   "cell_type": "markdown",
   "id": "c6969de2",
   "metadata": {},
   "source": [
    "> **Training the Model**"
   ]
  },
  {
   "cell_type": "code",
   "execution_count": 11,
   "id": "75dedc53",
   "metadata": {
    "execution": {
     "iopub.execute_input": "2023-08-16T13:05:12.115558Z",
     "iopub.status.busy": "2023-08-16T13:05:12.114695Z",
     "iopub.status.idle": "2023-08-16T13:05:12.183937Z",
     "shell.execute_reply": "2023-08-16T13:05:12.183013Z",
     "shell.execute_reply.started": "2023-08-16T13:05:12.115513Z"
    }
   },
   "outputs": [
    {
     "name": "stdout",
     "output_type": "stream",
     "text": [
      "MAE for NLP model: 220.29734112465218\n"
     ]
    }
   ],
   "source": [
    "wd_model =  model.fit(train_data_wd[['temperature', 'humidity', 'rainfall']], train_data_h['units_sold'])\n",
    "wd_predictions = wd_model.predict(val_data_wd[['temperature', 'humidity', 'rainfall']])\n",
    "\n",
    "mae_wd = mean_absolute_error(val_data_h['units_sold'], wd_predictions)\n",
    "\n",
    "print(f\"MAE for NLP model: {mae_wd}\")"
   ]
  },
  {
   "cell_type": "markdown",
   "id": "23e122cf",
   "metadata": {},
   "source": [
    "> **Generating Population Data**"
   ]
  },
  {
   "cell_type": "code",
   "execution_count": 12,
   "id": "4ff34ef9",
   "metadata": {
    "execution": {
     "iopub.execute_input": "2023-08-16T13:05:12.186325Z",
     "iopub.status.busy": "2023-08-16T13:05:12.185621Z",
     "iopub.status.idle": "2023-08-16T13:05:12.195050Z",
     "shell.execute_reply": "2023-08-16T13:05:12.193855Z",
     "shell.execute_reply.started": "2023-08-16T13:05:12.186287Z"
    }
   },
   "outputs": [],
   "source": [
    "# Generate random population data\n",
    "\n",
    "population_data = pd.DataFrame({\n",
    "    'region': [f\"region{i}\" for i in range(1, num_regions + 1)],\n",
    "    'urban_population': np.random.uniform(0.4, 0.9, 730),\n",
    "    'rural_population': np.random.uniform(0.1, 0.6, 730)\n",
    "})\n",
    "\n",
    "\n",
    "train_data_pop, val_data_pop = train_test_split(population_data, test_size=0.2, random_state=42)"
   ]
  },
  {
   "cell_type": "code",
   "execution_count": 13,
   "id": "02e370aa",
   "metadata": {
    "execution": {
     "iopub.execute_input": "2023-08-16T13:05:12.197714Z",
     "iopub.status.busy": "2023-08-16T13:05:12.196403Z",
     "iopub.status.idle": "2023-08-16T13:05:12.213519Z",
     "shell.execute_reply": "2023-08-16T13:05:12.212648Z",
     "shell.execute_reply.started": "2023-08-16T13:05:12.197619Z"
    }
   },
   "outputs": [
    {
     "name": "stdout",
     "output_type": "stream",
     "text": [
      "        region  urban_population  rural_population\n",
      "0      region1          0.819183          0.359314\n",
      "1      region2          0.658958          0.232727\n",
      "2      region3          0.402549          0.569803\n",
      "3      region4          0.831894          0.249969\n",
      "4      region5          0.440624          0.499806\n",
      "..         ...               ...               ...\n",
      "725  region726          0.585481          0.202952\n",
      "726  region727          0.878501          0.254565\n",
      "727  region728          0.746889          0.208270\n",
      "728  region729          0.843322          0.112452\n",
      "729  region730          0.433775          0.561783\n",
      "\n",
      "[730 rows x 3 columns]\n"
     ]
    }
   ],
   "source": [
    "print(population_data)"
   ]
  },
  {
   "cell_type": "markdown",
   "id": "e48f12a7",
   "metadata": {},
   "source": [
    "> **Training the Model**"
   ]
  },
  {
   "cell_type": "code",
   "execution_count": 14,
   "id": "cf682098",
   "metadata": {
    "execution": {
     "iopub.execute_input": "2023-08-16T13:05:12.215711Z",
     "iopub.status.busy": "2023-08-16T13:05:12.214850Z",
     "iopub.status.idle": "2023-08-16T13:05:12.283720Z",
     "shell.execute_reply": "2023-08-16T13:05:12.282861Z",
     "shell.execute_reply.started": "2023-08-16T13:05:12.215674Z"
    }
   },
   "outputs": [
    {
     "name": "stdout",
     "output_type": "stream",
     "text": [
      "MAE for Population model: 238.3492155728275\n"
     ]
    }
   ],
   "source": [
    "# Train population model\n",
    "\n",
    "pop_model = model.fit(train_data_pop[['urban_population', 'rural_population']], train_data_h['units_sold'])\n",
    "population_predictions = pop_model.predict(val_data_pop[['urban_population', 'rural_population']])\n",
    "mae_pop = mean_absolute_error(val_data_h['units_sold'], population_predictions)\n",
    "print(f\"MAE for Population model: {mae_pop}\")"
   ]
  },
  {
   "cell_type": "markdown",
   "id": "34c3dd08",
   "metadata": {},
   "source": [
    "> **Generating the Population Data: Urban and Rural**"
   ]
  },
  {
   "cell_type": "code",
   "execution_count": 15,
   "id": "28cf6984",
   "metadata": {
    "execution": {
     "iopub.execute_input": "2023-08-16T13:05:12.286060Z",
     "iopub.status.busy": "2023-08-16T13:05:12.284847Z",
     "iopub.status.idle": "2023-08-16T13:05:12.295016Z",
     "shell.execute_reply": "2023-08-16T13:05:12.293768Z",
     "shell.execute_reply.started": "2023-08-16T13:05:12.286020Z"
    }
   },
   "outputs": [],
   "source": [
    "# Generate random geography data\n",
    "geography_data = pd.DataFrame({\n",
    "    'region': [f\"region{i}\" for i in range(1, num_regions + 1)],\n",
    "    'geography_type': np.random.choice(['Hilly', 'Plain', 'Grassland'], 730)\n",
    "})\n",
    "\n",
    "\n",
    "train_data_geo, val_data_geo = train_test_split(geography_data, test_size=0.2, random_state=42)"
   ]
  },
  {
   "cell_type": "markdown",
   "id": "05943939",
   "metadata": {},
   "source": [
    "> One Hot Encoding"
   ]
  },
  {
   "cell_type": "code",
   "execution_count": 16,
   "id": "71b5e4fd",
   "metadata": {
    "execution": {
     "iopub.execute_input": "2023-08-16T13:05:12.297648Z",
     "iopub.status.busy": "2023-08-16T13:05:12.296579Z",
     "iopub.status.idle": "2023-08-16T13:05:12.312014Z",
     "shell.execute_reply": "2023-08-16T13:05:12.310956Z",
     "shell.execute_reply.started": "2023-08-16T13:05:12.297563Z"
    }
   },
   "outputs": [],
   "source": [
    "label_encoder = LabelEncoder()\n",
    "train_data_geo['geography_type_encoded'] = label_encoder.fit_transform(train_data_geo['geography_type'])\n",
    "val_data_geo['geography_type_encoded'] = label_encoder.transform(val_data_geo['geography_type'])"
   ]
  },
  {
   "cell_type": "markdown",
   "id": "93114a57",
   "metadata": {},
   "source": [
    "> **Traiing the Model**"
   ]
  },
  {
   "cell_type": "code",
   "execution_count": 17,
   "id": "f08f3199",
   "metadata": {
    "execution": {
     "iopub.execute_input": "2023-08-16T13:05:12.314699Z",
     "iopub.status.busy": "2023-08-16T13:05:12.313773Z",
     "iopub.status.idle": "2023-08-16T13:05:12.372799Z",
     "shell.execute_reply": "2023-08-16T13:05:12.371802Z",
     "shell.execute_reply.started": "2023-08-16T13:05:12.314660Z"
    }
   },
   "outputs": [
    {
     "name": "stdout",
     "output_type": "stream",
     "text": [
      "MAE for Geography model: 228.27754065108627\n"
     ]
    }
   ],
   "source": [
    "# train_data_geo_encoded = pd.get_dummies(train_data_geo, columns=['geography_type'], prefix=['geography'])\n",
    "# val_data_geo_encoded = pd.get_dummies(val_data_geo, columns=['geography_type'], prefix=['geography'])\n",
    "\n",
    "geo_model = model.fit(train_data_geo[['geography_type_encoded']], train_data_h['units_sold'])\n",
    "geography_predictions = geo_model.predict(val_data_geo[['geography_type_encoded']])\n",
    "mae_geo = mean_absolute_error(val_data_h['units_sold'], geography_predictions)\n",
    "print(f\"MAE for Geography model: {mae_geo}\")"
   ]
  },
  {
   "cell_type": "code",
   "execution_count": 18,
   "id": "939b30b7",
   "metadata": {
    "execution": {
     "iopub.execute_input": "2023-08-16T13:05:12.374557Z",
     "iopub.status.busy": "2023-08-16T13:05:12.373934Z",
     "iopub.status.idle": "2023-08-16T13:05:12.383978Z",
     "shell.execute_reply": "2023-08-16T13:05:12.382788Z",
     "shell.execute_reply.started": "2023-08-16T13:05:12.374522Z"
    }
   },
   "outputs": [
    {
     "name": "stdout",
     "output_type": "stream",
     "text": [
      "        region geography_type  geography_type_encoded\n",
      "247  region248          Plain                       2\n",
      "335  region336          Plain                       2\n",
      "702  region703      Grassland                       0\n",
      "440  region441      Grassland                       0\n",
      "136  region137      Grassland                       0\n",
      "..         ...            ...                     ...\n",
      "71    region72          Plain                       2\n",
      "106  region107          Hilly                       1\n",
      "270  region271      Grassland                       0\n",
      "435  region436          Plain                       2\n",
      "102  region103          Hilly                       1\n",
      "\n",
      "[584 rows x 3 columns]\n"
     ]
    }
   ],
   "source": [
    "print(train_data_geo)"
   ]
  },
  {
   "cell_type": "markdown",
   "id": "19535472",
   "metadata": {},
   "source": [
    "> **Generating Stock Closing Prices**"
   ]
  },
  {
   "cell_type": "code",
   "execution_count": 19,
   "id": "7f9f7f8d",
   "metadata": {
    "execution": {
     "iopub.execute_input": "2023-08-16T13:05:12.386180Z",
     "iopub.status.busy": "2023-08-16T13:05:12.385707Z",
     "iopub.status.idle": "2023-08-16T13:05:12.399121Z",
     "shell.execute_reply": "2023-08-16T13:05:12.397867Z",
     "shell.execute_reply.started": "2023-08-16T13:05:12.386124Z"
    }
   },
   "outputs": [],
   "source": [
    "# Generate random stock price data\n",
    "stock_price_data = pd.DataFrame({\n",
    "    'date': dates,\n",
    "    'closing_price': np.random.uniform(40, 60, len(dates))\n",
    "})\n",
    "\n",
    "train_data_sp, val_data_sp = train_test_split(stock_price_data, test_size=0.2, random_state=42)"
   ]
  },
  {
   "cell_type": "code",
   "execution_count": 20,
   "id": "4382e3fa",
   "metadata": {
    "execution": {
     "iopub.execute_input": "2023-08-16T13:05:12.400902Z",
     "iopub.status.busy": "2023-08-16T13:05:12.400496Z",
     "iopub.status.idle": "2023-08-16T13:05:12.415848Z",
     "shell.execute_reply": "2023-08-16T13:05:12.414587Z",
     "shell.execute_reply.started": "2023-08-16T13:05:12.400862Z"
    }
   },
   "outputs": [
    {
     "name": "stdout",
     "output_type": "stream",
     "text": [
      "          date  closing_price\n",
      "0   2022-01-01      59.855912\n",
      "1   2022-01-02      56.007816\n",
      "2   2022-01-03      56.004593\n",
      "3   2022-01-04      42.292404\n",
      "4   2022-01-05      54.568175\n",
      "..         ...            ...\n",
      "725 2023-12-27      51.949378\n",
      "726 2023-12-28      50.071143\n",
      "727 2023-12-29      43.319994\n",
      "728 2023-12-30      47.163814\n",
      "729 2023-12-31      51.561828\n",
      "\n",
      "[730 rows x 2 columns]\n"
     ]
    }
   ],
   "source": [
    "print(stock_price_data)"
   ]
  },
  {
   "cell_type": "markdown",
   "id": "e3281274",
   "metadata": {},
   "source": [
    "> **Training the Model**"
   ]
  },
  {
   "cell_type": "code",
   "execution_count": 21,
   "id": "31fc7cbf",
   "metadata": {
    "execution": {
     "iopub.execute_input": "2023-08-16T13:05:12.418156Z",
     "iopub.status.busy": "2023-08-16T13:05:12.417294Z",
     "iopub.status.idle": "2023-08-16T13:05:12.487929Z",
     "shell.execute_reply": "2023-08-16T13:05:12.487059Z",
     "shell.execute_reply.started": "2023-08-16T13:05:12.418120Z"
    }
   },
   "outputs": [
    {
     "name": "stdout",
     "output_type": "stream",
     "text": [
      "MAE for stock price model: 222.69002062653843\n"
     ]
    }
   ],
   "source": [
    "# Train stock price model\n",
    "sp_model = model.fit(train_data_sp[['closing_price']], train_data_h['units_sold'])\n",
    "stock_price_predictions = sp_model.predict(val_data_sp[['closing_price']])\n",
    "mae_sp = mean_absolute_error(val_data_h['units_sold'], stock_price_predictions)\n",
    "print(f\"MAE for stock price model: {mae_sp}\")"
   ]
  },
  {
   "cell_type": "markdown",
   "id": "ee571dd2",
   "metadata": {},
   "source": [
    "> **Generating Customer Feedback Data**"
   ]
  },
  {
   "cell_type": "code",
   "execution_count": 22,
   "id": "85864acf",
   "metadata": {
    "execution": {
     "iopub.execute_input": "2023-08-16T13:05:12.490306Z",
     "iopub.status.busy": "2023-08-16T13:05:12.489571Z",
     "iopub.status.idle": "2023-08-16T13:05:12.499196Z",
     "shell.execute_reply": "2023-08-16T13:05:12.498055Z",
     "shell.execute_reply.started": "2023-08-16T13:05:12.490268Z"
    }
   },
   "outputs": [],
   "source": [
    "feedback_data = pd.DataFrame({\n",
    "    'date': dates,\n",
    "    'product_id':[f\"AB001\"for i in range(1, num_regions + 1)],\n",
    "    'customer_feedback': np.random.choice(['Positive', 'Negative', 'Neutral'], 730)\n",
    "})\n",
    "train_data_fd, val_data_fd = train_test_split(feedback_data, test_size=0.2, random_state=42)"
   ]
  },
  {
   "cell_type": "markdown",
   "id": "4f85818c",
   "metadata": {},
   "source": [
    "One Hot Encoding"
   ]
  },
  {
   "cell_type": "code",
   "execution_count": 23,
   "id": "90bf3078",
   "metadata": {
    "execution": {
     "iopub.execute_input": "2023-08-16T13:05:12.502112Z",
     "iopub.status.busy": "2023-08-16T13:05:12.501450Z",
     "iopub.status.idle": "2023-08-16T13:05:12.513595Z",
     "shell.execute_reply": "2023-08-16T13:05:12.511690Z",
     "shell.execute_reply.started": "2023-08-16T13:05:12.501934Z"
    }
   },
   "outputs": [],
   "source": [
    "label_encoder = LabelEncoder()\n",
    "train_data_fd['feedback_encoded'] = label_encoder.fit_transform(train_data_fd['customer_feedback'])\n",
    "val_data_fd['feedback_encoded'] = label_encoder.transform(val_data_fd['customer_feedback'])"
   ]
  },
  {
   "cell_type": "code",
   "execution_count": 24,
   "id": "c55b7e8c",
   "metadata": {
    "execution": {
     "iopub.execute_input": "2023-08-16T13:05:12.515986Z",
     "iopub.status.busy": "2023-08-16T13:05:12.515583Z",
     "iopub.status.idle": "2023-08-16T13:05:12.530413Z",
     "shell.execute_reply": "2023-08-16T13:05:12.528959Z",
     "shell.execute_reply.started": "2023-08-16T13:05:12.515947Z"
    }
   },
   "outputs": [
    {
     "name": "stdout",
     "output_type": "stream",
     "text": [
      "          date product_id customer_feedback  feedback_encoded\n",
      "247 2022-09-05      AB001          Positive                 2\n",
      "335 2022-12-02      AB001           Neutral                 1\n",
      "702 2023-12-04      AB001           Neutral                 1\n",
      "440 2023-03-17      AB001          Negative                 0\n",
      "136 2022-05-17      AB001           Neutral                 1\n",
      "..         ...        ...               ...               ...\n",
      "71  2022-03-13      AB001          Positive                 2\n",
      "106 2022-04-17      AB001           Neutral                 1\n",
      "270 2022-09-28      AB001          Positive                 2\n",
      "435 2023-03-12      AB001          Positive                 2\n",
      "102 2022-04-13      AB001          Positive                 2\n",
      "\n",
      "[584 rows x 4 columns]\n"
     ]
    }
   ],
   "source": [
    "print(train_data_fd)"
   ]
  },
  {
   "cell_type": "markdown",
   "id": "794880e0",
   "metadata": {},
   "source": [
    "> **Training the Model**"
   ]
  },
  {
   "cell_type": "code",
   "execution_count": 25,
   "id": "d0b0fd3d",
   "metadata": {
    "execution": {
     "iopub.execute_input": "2023-08-16T13:05:12.532272Z",
     "iopub.status.busy": "2023-08-16T13:05:12.531645Z",
     "iopub.status.idle": "2023-08-16T13:05:12.592314Z",
     "shell.execute_reply": "2023-08-16T13:05:12.591381Z",
     "shell.execute_reply.started": "2023-08-16T13:05:12.532236Z"
    }
   },
   "outputs": [
    {
     "name": "stdout",
     "output_type": "stream",
     "text": [
      "MAE for Feedback model: 226.63390193573417\n"
     ]
    }
   ],
   "source": [
    "fd_model = model.fit(train_data_fd[['feedback_encoded']], train_data_h['units_sold'])\n",
    "feedback_predictions = fd_model.predict(val_data_fd[['feedback_encoded']])\n",
    "mae_fd = mean_absolute_error(val_data_h['units_sold'], feedback_predictions)\n",
    "print(f\"MAE for Feedback model: {mae_fd}\")"
   ]
  },
  {
   "cell_type": "markdown",
   "id": "421529ed",
   "metadata": {},
   "source": [
    "# **Creating the Ensemble Model**"
   ]
  },
  {
   "cell_type": "markdown",
   "id": "4dbc8728",
   "metadata": {},
   "source": [
    "> **Generating combined Input Data and Training the Model**"
   ]
  },
  {
   "cell_type": "code",
   "execution_count": 26,
   "id": "6fca9c45",
   "metadata": {
    "execution": {
     "iopub.execute_input": "2023-08-16T13:05:12.594541Z",
     "iopub.status.busy": "2023-08-16T13:05:12.594128Z",
     "iopub.status.idle": "2023-08-16T13:05:12.652877Z",
     "shell.execute_reply": "2023-08-16T13:05:12.652091Z",
     "shell.execute_reply.started": "2023-08-16T13:05:12.594506Z"
    }
   },
   "outputs": [
    {
     "data": {
      "text/plain": [
       "XGBRegressor(base_score=None, booster=None, callbacks=None,\n",
       "             colsample_bylevel=None, colsample_bynode=None,\n",
       "             colsample_bytree=0.8, early_stopping_rounds=None,\n",
       "             enable_categorical=False, eval_metric=None, feature_types=None,\n",
       "             gamma=None, gpu_id=None, grow_policy=None, importance_type=None,\n",
       "             interaction_constraints=None, learning_rate=0.1, max_bin=None,\n",
       "             max_cat_threshold=None, max_cat_to_onehot=None,\n",
       "             max_delta_step=None, max_depth=3, max_leaves=None,\n",
       "             min_child_weight=None, missing=nan, monotone_constraints=None,\n",
       "             n_estimators=100, n_jobs=None, num_parallel_tree=None,\n",
       "             predictor=None, random_state=42, ...)"
      ]
     },
     "execution_count": 26,
     "metadata": {},
     "output_type": "execute_result"
    }
   ],
   "source": [
    "# Combine predictions using XGBoost as the ensemble\n",
    "ensemble_data = np.column_stack((nlp_predictions, wd_predictions,\n",
    "                                 population_predictions, geography_predictions,\n",
    "                                 stock_price_predictions, feedback_predictions))\n",
    "ensemble_model = xgb.XGBRegressor(**xgb_params)\n",
    "ensemble_model.fit(ensemble_data, val_data_h[target])"
   ]
  },
  {
   "cell_type": "markdown",
   "id": "fc493a9d",
   "metadata": {},
   "source": [
    "> **Predicting the Output**"
   ]
  },
  {
   "cell_type": "code",
   "execution_count": 27,
   "id": "f033f008",
   "metadata": {
    "execution": {
     "iopub.execute_input": "2023-08-16T13:05:12.654598Z",
     "iopub.status.busy": "2023-08-16T13:05:12.654090Z",
     "iopub.status.idle": "2023-08-16T13:05:12.664981Z",
     "shell.execute_reply": "2023-08-16T13:05:12.663262Z",
     "shell.execute_reply.started": "2023-08-16T13:05:12.654566Z"
    }
   },
   "outputs": [
    {
     "name": "stdout",
     "output_type": "stream",
     "text": [
      "Ensemble MAE: 86.78345364087248\n"
     ]
    }
   ],
   "source": [
    "ensemble_input_data = np.column_stack((nlp_predictions, wd_predictions,\n",
    "                                 population_predictions, geography_predictions,\n",
    "                                 stock_price_predictions, feedback_predictions))\n",
    "\n",
    "ensemble_predictions = ensemble_model.predict(ensemble_input_data)\n",
    "ensemble_mae = mean_absolute_error(val_data_h[target], ensemble_predictions)\n",
    "print(f'Ensemble MAE: {ensemble_mae}')"
   ]
  },
  {
   "cell_type": "markdown",
   "id": "f716392d",
   "metadata": {},
   "source": [
    "# **Understanding the Outcomes via Graphical Representation**"
   ]
  },
  {
   "cell_type": "code",
   "execution_count": 28,
   "id": "a5ccccd0",
   "metadata": {
    "execution": {
     "iopub.execute_input": "2023-08-16T13:05:12.672576Z",
     "iopub.status.busy": "2023-08-16T13:05:12.671489Z",
     "iopub.status.idle": "2023-08-16T13:05:13.374396Z",
     "shell.execute_reply": "2023-08-16T13:05:13.373449Z",
     "shell.execute_reply.started": "2023-08-16T13:05:12.672521Z"
    }
   },
   "outputs": [
    {
     "data": {
      "image/png": "[encoded data removed]",
      "text/plain": [
       "<Figure size 800x800 with 1 Axes>"
      ]
     },
     "metadata": {},
     "output_type": "display_data"
    }
   ],
   "source": [
    "import matplotlib.pyplot as plt\n",
    "import seaborn as sns\n",
    "from sklearn.metrics import confusion_matrix\n",
    "\n",
    "\n",
    "# Scatter plot of predicted vs. actual sales\n",
    "plt.figure(figsize=(8, 8))\n",
    "plt.scatter(val_data_h[target], ensemble_predictions, alpha=0.5)\n",
    "plt.xlabel('Actual Units Sold')\n",
    "plt.ylabel('Predicted Units Sold by Ensemble model')\n",
    "plt.title('Predicted vs. Actual Sales')\n",
    "plt.show()\n"
   ]
  },
  {
   "cell_type": "code",
   "execution_count": 29,
   "id": "edd92851",
   "metadata": {
    "execution": {
     "iopub.execute_input": "2023-08-16T13:05:13.376811Z",
     "iopub.status.busy": "2023-08-16T13:05:13.375712Z",
     "iopub.status.idle": "2023-08-16T13:05:13.766030Z",
     "shell.execute_reply": "2023-08-16T13:05:13.765066Z",
     "shell.execute_reply.started": "2023-08-16T13:05:13.376683Z"
    }
   },
   "outputs": [
    {
     "data": {
      "image/png": "[encoded data removed]",
      "text/plain": [
       "<Figure size 800x600 with 1 Axes>"
      ]
     },
     "metadata": {},
     "output_type": "display_data"
    }
   ],
   "source": [
    "plt.figure(figsize=(8, 6))\n",
    "plt.scatter(val_data_nlp['sentiment_score'], nlp_predictions, alpha=0.5)\n",
    "plt.xlabel('News Sentiment Score')\n",
    "plt.ylabel('Predicted Units Sold')\n",
    "plt.title('News Sentiment vs. Predicted Units Sold')\n",
    "plt.tight_layout()\n",
    "plt.show()\n"
   ]
  },
  {
   "cell_type": "code",
   "execution_count": 30,
   "id": "a13ba4cc",
   "metadata": {
    "execution": {
     "iopub.execute_input": "2023-08-16T13:05:13.768095Z",
     "iopub.status.busy": "2023-08-16T13:05:13.767339Z",
     "iopub.status.idle": "2023-08-16T13:05:14.166118Z",
     "shell.execute_reply": "2023-08-16T13:05:14.164714Z",
     "shell.execute_reply.started": "2023-08-16T13:05:13.768059Z"
    }
   },
   "outputs": [
    {
     "data": {
      "image/png": "[encoded data removed]",
      "text/plain": [
       "<Figure size 800x600 with 2 Axes>"
      ]
     },
     "metadata": {},
     "output_type": "display_data"
    }
   ],
   "source": [
    "import seaborn as sns\n",
    "\n",
    "weather_corr = train_data_wd[['temperature', 'humidity', 'rainfall']].corr()\n",
    "plt.figure(figsize=(8, 6))\n",
    "sns.heatmap(weather_corr, annot=True, cmap='coolwarm', center=0)\n",
    "plt.title('Correlation Heatmap for Weather Data')\n",
    "plt.tight_layout()\n",
    "plt.show()\n"
   ]
  },
  {
   "cell_type": "code",
   "execution_count": 31,
   "id": "742767c8",
   "metadata": {
    "execution": {
     "iopub.execute_input": "2023-08-16T13:05:14.167676Z",
     "iopub.status.busy": "2023-08-16T13:05:14.167327Z",
     "iopub.status.idle": "2023-08-16T13:05:14.570135Z",
     "shell.execute_reply": "2023-08-16T13:05:14.568585Z",
     "shell.execute_reply.started": "2023-08-16T13:05:14.167646Z"
    }
   },
   "outputs": [
    {
     "data": {
      "image/png": "[encoded data removed]",
      "text/plain": [
       "<Figure size 800x600 with 1 Axes>"
      ]
     },
     "metadata": {},
     "output_type": "display_data"
    }
   ],
   "source": [
    "plt.figure(figsize=(8, 6))\n",
    "plt.scatter(val_data_sp['closing_price'], stock_price_predictions, alpha=0.5)\n",
    "plt.xlabel('Stock Closing Price')\n",
    "plt.ylabel('Predicted Units Sold')\n",
    "plt.title('Stock Price vs. Predicted Units Sold')\n",
    "plt.tight_layout()\n",
    "plt.show()\n"
   ]
  },
  {
   "cell_type": "code",
   "execution_count": 32,
   "id": "7779e355",
   "metadata": {
    "execution": {
     "iopub.execute_input": "2023-08-16T13:05:14.572288Z",
     "iopub.status.busy": "2023-08-16T13:05:14.571875Z",
     "iopub.status.idle": "2023-08-16T13:05:14.867176Z",
     "shell.execute_reply": "2023-08-16T13:05:14.866191Z",
     "shell.execute_reply.started": "2023-08-16T13:05:14.572253Z"
    }
   },
   "outputs": [
    {
     "data": {
      "image/png": "[encoded data removed]",
      "text/plain": [
       "<Figure size 800x800 with 1 Axes>"
      ]
     },
     "metadata": {},
     "output_type": "display_data"
    }
   ],
   "source": [
    "plt.figure(figsize=(8, 8))\n",
    "plt.scatter(val_data_h[target], population_predictions, alpha=0.5)\n",
    "plt.xlabel('Actual Units Sold')\n",
    "plt.ylabel('Ensemble Predictions')\n",
    "plt.title('Ensemble Predictions vs. Actual Sales')\n",
    "plt.show()\n"
   ]
  },
  {
   "cell_type": "markdown",
   "id": "a618e684",
   "metadata": {},
   "source": [
    "# **Predicting the Sale for a Particular Day: Single Product**"
   ]
  },
  {
   "cell_type": "markdown",
   "id": "52094a58",
   "metadata": {},
   "source": [
    "> **Input Data to the Model**"
   ]
  },
  {
   "cell_type": "code",
   "execution_count": 33,
   "id": "228bc06c",
   "metadata": {
    "execution": {
     "iopub.execute_input": "2023-08-16T13:05:14.869067Z",
     "iopub.status.busy": "2023-08-16T13:05:14.868318Z",
     "iopub.status.idle": "2023-08-16T13:05:14.875229Z",
     "shell.execute_reply": "2023-08-16T13:05:14.874060Z",
     "shell.execute_reply.started": "2023-08-16T13:05:14.869026Z"
    }
   },
   "outputs": [],
   "source": [
    "# Given input features for prediction\n",
    "humidity = 65.0\n",
    "temperature = 25.0\n",
    "sentiment_score = 0.8\n",
    "geography = 'Hilly'\n",
    "closing_price = 55.0\n",
    "rainfall = 2.345\n",
    "feedback = 'positive'\n",
    "urban = 0.509\n",
    "rural = 0.491\n"
   ]
  },
  {
   "cell_type": "markdown",
   "id": "b1f856d1",
   "metadata": {},
   "source": [
    "> **Function for Mapping the Input into the Trained Model**"
   ]
  },
  {
   "cell_type": "code",
   "execution_count": 34,
   "id": "305b55d4",
   "metadata": {
    "execution": {
     "iopub.execute_input": "2023-08-16T13:05:14.877129Z",
     "iopub.status.busy": "2023-08-16T13:05:14.876756Z",
     "iopub.status.idle": "2023-08-16T13:05:14.890336Z",
     "shell.execute_reply": "2023-08-16T13:05:14.889203Z",
     "shell.execute_reply.started": "2023-08-16T13:05:14.877095Z"
    }
   },
   "outputs": [],
   "source": [
    "\n",
    "def predict_sales(humidity,temperature, rainfall, news, geography, stock, feedback, pop_urban, pop_rural ):\n",
    "    if geography=='Hilly':\n",
    "        g_encoded = np.array([1])\n",
    "    elif geography=='Grassland':\n",
    "        g_encoded =  np.array([0])\n",
    "    else:\n",
    "        g_encoded =  np.array([2])\n",
    "    \n",
    "    \n",
    "    if feedback=='Negative':\n",
    "        f_encoded=  np.array([0])\n",
    "    elif feedback=='Positive':\n",
    "        f_encoded =  np.array([2])\n",
    "    else :\n",
    "        f_encoded =  np.array([1])   \n",
    "        \n",
    "        \n",
    "    hum =  np.array([humidity, temperature, rainfall])\n",
    "    sc =  np.array([news])\n",
    "    sp =  np.array([stock])\n",
    "    urb =  np.array([pop_urban,pop_rural])\n",
    "    \n",
    "    input_data = np.array([[nlp_model.predict(sc)[0], wd_model.predict(hum)[0],\n",
    "                            pop_model.predict(urb)[0], geo_model.predict(g_encoded)[0], \n",
    "                            sp_model.predict(sp)[0], fd_model.predict(f_encoded)[0]]])\n",
    "\n",
    "    # Make prediction using the ensemble model\n",
    "    sales = ensemble_model.predict(input_data)[0]\n",
    "    \n",
    "    return sales\n",
    "\n"
   ]
  },
  {
   "cell_type": "markdown",
   "id": "d70dea29",
   "metadata": {},
   "source": [
    "> **Predicting the Final Output**"
   ]
  },
  {
   "cell_type": "code",
   "execution_count": 35,
   "id": "25d6712f",
   "metadata": {
    "execution": {
     "iopub.execute_input": "2023-08-16T13:12:43.111142Z",
     "iopub.status.busy": "2023-08-16T13:12:43.110761Z",
     "iopub.status.idle": "2023-08-16T13:12:43.130089Z",
     "shell.execute_reply": "2023-08-16T13:12:43.129075Z",
     "shell.execute_reply.started": "2023-08-16T13:12:43.111113Z"
    }
   },
   "outputs": [
    {
     "name": "stdout",
     "output_type": "stream",
     "text": [
      "Product_Id- WM_201 \n",
      "Product: Soda \n",
      ": Current Stock: 300 units \n",
      "Required Stock: 539 units\n",
      "Increase by 55%\n"
     ]
    }
   ],
   "source": [
    "#Initial Inventory value, in units\n",
    "inventory = 300\n",
    "\n",
    "# Prdicting the sales amount\n",
    "units= predict_sales(humidity,temperature, rainfall, sentiment_score, geography, closing_price, feedback, urban, rural )\n",
    "new_units = math.floor(units)\n",
    "\n",
    "print(f\"Product_Id- WM_201 \\nProduct: Soda \\n: Current Stock: {inventory} units \\nRequired Stock: {new_units} units\")\n",
    "\n",
    "percent=math.floor(inventory/new_units*100)\n",
    "\n",
    "if percent>0:\n",
    "    print(f\"Increase by {percent}%\")\n",
    "else:\n",
    "    print(f\"Decrease by {percent}%\")"
   ]
  },
  {
   "cell_type": "markdown",
   "id": "90e24202",
   "metadata": {},
   "source": [
    "# **Integrating the Model with Backend**"
   ]
  },
  {
   "cell_type": "code",
   "execution_count": 37,
   "id": "37c6f565",
   "metadata": {},
   "outputs": [
    {
     "data": {
      "text/plain": [
       "['model.pkl']"
      ]
     },
     "execution_count": 37,
     "metadata": {},
     "output_type": "execute_result"
    }
   ],
   "source": [
    "import joblib\n",
    "joblib.dump(ensemble_model, 'model.pkl')\n"
   ]
  },
  {
   "cell_type": "code",
   "execution_count": null,
   "id": "5e922f35",
   "metadata": {},
   "outputs": [
    {
     "name": "stdout",
     "output_type": "stream",
     "text": [
      " * Serving Flask app \"__main__\" (lazy loading)\n",
      " * Environment: production\n",
      "\u001b[31m   WARNING: This is a development server. Do not use it in a production deployment.\u001b[0m\n",
      "\u001b[2m   Use a production WSGI server instead.\u001b[0m\n",
      " * Debug mode: off\n"
     ]
    },
    {
     "name": "stderr",
     "output_type": "stream",
     "text": [
      " * Running on all addresses.\n",
      "   WARNING: This is a development server. Do not use it in a production deployment.\n",
      " * Running on http://192.168.1.50:5000/ (Press CTRL+C to quit)\n"
     ]
    }
   ],
   "source": [
    "from flask import Flask, request, jsonify\n",
    "import os\n",
    "import joblib\n",
    "\n",
    "app = Flask(__name__)\n",
    "\n",
    "model = joblib.load('model.pkl')\n",
    "\n",
    "@app.route('/predict', methods=['POST'])\n",
    "def predict():\n",
    "    try:\n",
    "        data = request.json\n",
    "        features = data['features']\n",
    "        prediction = model.predict(features)\n",
    "\n",
    "        response = {\n",
    "            'prediction': prediction.tolist(),\n",
    "            'message': 'Prediction successful'\n",
    "        }\n",
    "\n",
    "        return jsonify(response), 200\n",
    "\n",
    "    except Exception as e:\n",
    "        error_response = {\n",
    "            'error': 'An error occurred',\n",
    "            'message': str(e)\n",
    "        }\n",
    "        return jsonify(error_response), 500\n",
    "\n",
    "if __name__ == '__main__':\n",
    "    app.run(host='0.0.0.0', port=int(os.environ.get('PORT', 5000)))\n"
   ]
  },
  {
   "cell_type": "code",
   "execution_count": null,
   "id": "0be0dbb2",
   "metadata": {},
   "outputs": [],
   "source": []
  }
 ],
 "metadata": {
  "kernelspec": {
   "display_name": "Python 3 (ipykernel)",
   "language": "python",
   "name": "python3"
  },
  "language_info": {
   "codemirror_mode": {
    "name": "ipython",
    "version": 3
   },
   "file_extension": ".py",
   "mimetype": "text/x-python",
   "name": "python",
   "nbconvert_exporter": "python",
   "pygments_lexer": "ipython3",
   "version": "3.9.13"
  }
 },
 "nbformat": 4,
 "nbformat_minor": 5
}
